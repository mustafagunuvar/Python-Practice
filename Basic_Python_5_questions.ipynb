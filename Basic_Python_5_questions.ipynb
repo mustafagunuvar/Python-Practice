{
 "cells": [
  {
   "cell_type": "markdown",
   "metadata": {},
   "source": [
    "# Practice"
   ]
  },
  {
   "cell_type": "markdown",
   "metadata": {},
   "source": [
    "SORU- 1 \n",
    "\n",
    "Verilen iki veri : \"sarı\" ve \"mehmet\" kullanılarak \"samehmetrı\" çıktısı elde ediniz..."
   ]
  },
  {
   "cell_type": "code",
   "execution_count": 6,
   "metadata": {},
   "outputs": [],
   "source": [
    "s1 = \"sarı\"\n",
    "s2 = \"mehmet\"\n",
    "\n",
    "s3 = s1[:2] + s2 + s1[2:]"
   ]
  },
  {
   "cell_type": "code",
   "execution_count": 5,
   "metadata": {},
   "outputs": [
    {
     "data": {
      "text/plain": [
       "'sa'"
      ]
     },
     "execution_count": 5,
     "metadata": {},
     "output_type": "execute_result"
    }
   ],
   "source": [
    "s1[: len(s1) // 2]   # s1 index sayısını bilemeyebiliriz. Böyle de yapılır"
   ]
  },
  {
   "cell_type": "code",
   "execution_count": 4,
   "metadata": {},
   "outputs": [
    {
     "data": {
      "text/plain": [
       "'rı'"
      ]
     },
     "execution_count": 4,
     "metadata": {},
     "output_type": "execute_result"
    }
   ],
   "source": [
    "s1[len(s1) // 2 :]"
   ]
  },
  {
   "cell_type": "code",
   "execution_count": 7,
   "metadata": {},
   "outputs": [
    {
     "data": {
      "text/plain": [
       "'samehmetrı'"
      ]
     },
     "execution_count": 7,
     "metadata": {},
     "output_type": "execute_result"
    }
   ],
   "source": [
    "s3"
   ]
  },
  {
   "cell_type": "code",
   "execution_count": 8,
   "metadata": {},
   "outputs": [],
   "source": [
    "s4 = \"yeşil\""
   ]
  },
  {
   "cell_type": "code",
   "execution_count": 9,
   "metadata": {},
   "outputs": [
    {
     "data": {
      "text/plain": [
       "'yemehmetşil'"
      ]
     },
     "execution_count": 9,
     "metadata": {},
     "output_type": "execute_result"
    }
   ],
   "source": [
    "s5 = s4[: len(s4) // 2] + s2 + s4[len(s4) //2 :]\n",
    "s5"
   ]
  },
  {
   "cell_type": "code",
   "execution_count": 11,
   "metadata": {},
   "outputs": [
    {
     "data": {
      "text/plain": [
       "'yeşmehmetil'"
      ]
     },
     "execution_count": 11,
     "metadata": {},
     "output_type": "execute_result"
    }
   ],
   "source": [
    "s5 = s4[: len(s4) // 2 + 1 ] + s2 + s4[len(s4) //2 + 1 :]    # burayı tamamen anlaaaa\n",
    "s5"
   ]
  },
  {
   "cell_type": "markdown",
   "metadata": {},
   "source": [
    "SORU - 2\n",
    "\n",
    "Verilen cümlede \"MR. Bean\" ifadesi kaç kere geçmektedir ?"
   ]
  },
  {
   "cell_type": "code",
   "execution_count": 12,
   "metadata": {},
   "outputs": [
    {
     "data": {
      "text/plain": [
       "'Mr. Bean is good actor and Mr. Bean is very funny'"
      ]
     },
     "execution_count": 12,
     "metadata": {},
     "output_type": "execute_result"
    }
   ],
   "source": [
    "str_x = \"Mr. Bean is good actor and Mr. Bean is very funny\"\n",
    "str_x"
   ]
  },
  {
   "cell_type": "code",
   "execution_count": 19,
   "metadata": {},
   "outputs": [],
   "source": [
    "a = str_x .count(\"Mr. Bean\")"
   ]
  },
  {
   "cell_type": "code",
   "execution_count": 20,
   "metadata": {},
   "outputs": [
    {
     "name": "stdout",
     "output_type": "stream",
     "text": [
      "Mr. Bean appeared 2 times \n"
     ]
    }
   ],
   "source": [
    "print(f\"Mr. Bean appeared {a} times \")"
   ]
  },
  {
   "cell_type": "markdown",
   "metadata": {},
   "source": [
    "SORU - 3 \n",
    "\n",
    "Kullanıcıdan aldığın haftalık çalışma saati ve saatlik ücret bilgilerini kullanarak çalışanın kazancını hesaplayan algoritmayı yazınız. Haftalık çalışma saati 40 saatin üstünde ise ücret 1.5 kat fazla olmalıdır."
   ]
  },
  {
   "cell_type": "code",
   "execution_count": 3,
   "metadata": {},
   "outputs": [
    {
     "name": "stdout",
     "output_type": "stream",
     "text": [
      "Haftalık ücretiniz : 430.0 TLdir\n"
     ]
    }
   ],
   "source": [
    "saat = int(input(\"Lütfen haftalık çalışma saatinizi yazınız\"))\n",
    "\n",
    "ücret = int(input(\"Lütfen saatlik calısma ücretinizi giriniz\"))\n",
    "\n",
    "if saat <= 40:\n",
    "\n",
    "    haftalık_ücret = saat * ücret\n",
    "\n",
    "    print(f\"Haftalık ücretiniz : {haftalık_ücret} TLdir\")\n",
    "\n",
    "elif saat > 40:\n",
    "\n",
    "    haftalık_ücret = ücret * ((saat - 40) * 1.5) + (ücret * 40)\n",
    "\n",
    "    print(f\"Haftalık ücretiniz : {haftalık_ücret} TLdir\")\n",
    "\n",
    "else:\n",
    "\n",
    "    print(\"Yanlış bir değer girdiniz\")"
   ]
  },
  {
   "cell_type": "markdown",
   "metadata": {},
   "source": [
    "SORU - 4\n",
    "\n",
    "Kullanıcıdan alınan iki nesne tamsayı türündeyse, iki nesneyi toplamak için bir Python programı yazın\n",
    "\n"
   ]
  },
  {
   "cell_type": "code",
   "execution_count": 10,
   "metadata": {},
   "outputs": [
    {
     "name": "stdout",
     "output_type": "stream",
     "text": [
      "Verilerin ikiside tam sayı olduğundan toplamları: 5\n"
     ]
    }
   ],
   "source": [
    "veri1 = input(\"Lütfen ilk veriyi giriniz\")\n",
    "\n",
    "veri2 = input(\"Lütfen ikinci veriyi giriniz\")\n",
    "\n",
    "if veri1.lstrip(\"-\").isnumeric() and veri2.lstrip(\"-\").isnumeric():\n",
    "\n",
    "    print(\"Verilerin ikiside tam sayı olduğundan toplamları:\", int(veri1) + int(veri2))\n",
    "\n",
    "else:\n",
    "\n",
    "    print(\"Girilen verilerden biri veya ikisi tam sayı değildir\")"
   ]
  },
  {
   "cell_type": "markdown",
   "metadata": {},
   "source": [
    "SORU - 5\n",
    "\n",
    "given_str = \"My phone number is (111) 222-33-44\" ifadesinin içerisindeki telefon numrasını bize çıktı olarak getiren python kodunu yazınız.\n",
    "\n"
   ]
  },
  {
   "cell_type": "code",
   "execution_count": 18,
   "metadata": {},
   "outputs": [
    {
     "name": "stdout",
     "output_type": "stream",
     "text": [
      "1112223344\n"
     ]
    }
   ],
   "source": [
    "given_str = \"My phone number is (111) 222-33-44\"\n",
    "\n",
    "tel_no = \"\"\n",
    "\n",
    "rakamlar = \"0123456789\"\n",
    "\n",
    "for i in given_str:\n",
    "   \n",
    "   if i in rakamlar:\n",
    "      \n",
    "      tel_no += i\n",
    "\n",
    "print(tel_no)\n",
    "\n",
    "     \n",
    "\n"
   ]
  },
  {
   "cell_type": "code",
   "execution_count": null,
   "metadata": {},
   "outputs": [],
   "source": []
  },
  {
   "cell_type": "code",
   "execution_count": null,
   "metadata": {},
   "outputs": [],
   "source": []
  },
  {
   "cell_type": "code",
   "execution_count": null,
   "metadata": {},
   "outputs": [],
   "source": []
  }
 ],
 "metadata": {
  "kernelspec": {
   "display_name": "Python 3",
   "language": "python",
   "name": "python3"
  },
  "language_info": {
   "codemirror_mode": {
    "name": "ipython",
    "version": 3
   },
   "file_extension": ".py",
   "mimetype": "text/x-python",
   "name": "python",
   "nbconvert_exporter": "python",
   "pygments_lexer": "ipython3",
   "version": "3.12.2"
  }
 },
 "nbformat": 4,
 "nbformat_minor": 2
}
