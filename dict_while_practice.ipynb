{
 "cells": [
  {
   "cell_type": "markdown",
   "metadata": {},
   "source": [
    "## Dict Practice"
   ]
  },
  {
   "cell_type": "code",
   "execution_count": 2,
   "metadata": {},
   "outputs": [
    {
     "name": "stdout",
     "output_type": "stream",
     "text": [
      "{'isim': 'ali', 'yas': 20, 'cinsiyet': 'm', 'hobiler': ['Sinema', 'Konser', 'Yazılım']}\n"
     ]
    }
   ],
   "source": [
    "print(kisi)"
   ]
  },
  {
   "cell_type": "code",
   "execution_count": 4,
   "metadata": {},
   "outputs": [
    {
     "name": "stdout",
     "output_type": "stream",
     "text": [
      "ali\n"
     ]
    }
   ],
   "source": [
    "print(kisi[\"isim\"])"
   ]
  },
  {
   "cell_type": "code",
   "execution_count": 5,
   "metadata": {},
   "outputs": [
    {
     "data": {
      "text/plain": [
       "['Sinema', 'Konser', 'Yazılım']"
      ]
     },
     "execution_count": 5,
     "metadata": {},
     "output_type": "execute_result"
    }
   ],
   "source": [
    "kisi[\"hobiler\"]"
   ]
  },
  {
   "cell_type": "code",
   "execution_count": 6,
   "metadata": {},
   "outputs": [],
   "source": [
    "kisi[\"isim\"] = \"Ahmet\""
   ]
  },
  {
   "cell_type": "code",
   "execution_count": 8,
   "metadata": {},
   "outputs": [
    {
     "name": "stdout",
     "output_type": "stream",
     "text": [
      "{'isim': 'Ahmet', 'yas': 20, 'cinsiyet': 'm', 'hobiler': ['Sinema', 'Konser', 'Yazılım']}\n"
     ]
    }
   ],
   "source": [
    "print(kisi)"
   ]
  },
  {
   "cell_type": "code",
   "execution_count": 9,
   "metadata": {},
   "outputs": [],
   "source": [
    "kisi .update({\"isim\": \"aytac\", \"yas\" : 30})"
   ]
  },
  {
   "cell_type": "code",
   "execution_count": 10,
   "metadata": {},
   "outputs": [
    {
     "name": "stdout",
     "output_type": "stream",
     "text": [
      "{'isim': 'aytac', 'yas': 30, 'cinsiyet': 'm', 'hobiler': ['Sinema', 'Konser', 'Yazılım']}\n"
     ]
    }
   ],
   "source": [
    "print(kisi)"
   ]
  },
  {
   "cell_type": "code",
   "execution_count": 11,
   "metadata": {},
   "outputs": [],
   "source": [
    "kisi[\"id\"] = \"12345\""
   ]
  },
  {
   "cell_type": "code",
   "execution_count": 12,
   "metadata": {},
   "outputs": [
    {
     "name": "stdout",
     "output_type": "stream",
     "text": [
      "{'isim': 'aytac', 'yas': 30, 'cinsiyet': 'm', 'hobiler': ['Sinema', 'Konser', 'Yazılım'], 'id': '12345'}\n"
     ]
    }
   ],
   "source": [
    "print(kisi)"
   ]
  },
  {
   "cell_type": "code",
   "execution_count": 13,
   "metadata": {},
   "outputs": [],
   "source": [
    "del kisi[\"id\"]"
   ]
  },
  {
   "cell_type": "code",
   "execution_count": 14,
   "metadata": {},
   "outputs": [
    {
     "name": "stdout",
     "output_type": "stream",
     "text": [
      "{'isim': 'aytac', 'yas': 30, 'cinsiyet': 'm', 'hobiler': ['Sinema', 'Konser', 'Yazılım']}\n"
     ]
    }
   ],
   "source": [
    "print(kisi)"
   ]
  },
  {
   "cell_type": "code",
   "execution_count": 15,
   "metadata": {},
   "outputs": [],
   "source": [
    "empty_dict = {}"
   ]
  },
  {
   "cell_type": "code",
   "execution_count": 21,
   "metadata": {},
   "outputs": [
    {
     "data": {
      "text/plain": [
       "{'isim': 'Mustafa', 'yas': 29, 'meslek': 'Mühendis'}"
      ]
     },
     "execution_count": 21,
     "metadata": {},
     "output_type": "execute_result"
    }
   ],
   "source": [
    "empty_dict .update({\"isim\": \"Mustafa\", \"yas\": 29})\n",
    "empty_dict"
   ]
  },
  {
   "cell_type": "code",
   "execution_count": 19,
   "metadata": {},
   "outputs": [
    {
     "data": {
      "text/plain": [
       "{'isim': 'Mustafa', 'yas': '29', 'meslek': 'Mühendis'}"
      ]
     },
     "execution_count": 19,
     "metadata": {},
     "output_type": "execute_result"
    }
   ],
   "source": [
    "empty_dict[\"meslek\"] = \"Mühendis\"\n",
    "empty_dict"
   ]
  },
  {
   "cell_type": "code",
   "execution_count": 20,
   "metadata": {},
   "outputs": [
    {
     "data": {
      "text/plain": [
       "'Mustafa'"
      ]
     },
     "execution_count": 20,
     "metadata": {},
     "output_type": "execute_result"
    }
   ],
   "source": [
    "empty_dict[\"isim\"]"
   ]
  },
  {
   "cell_type": "code",
   "execution_count": 22,
   "metadata": {},
   "outputs": [
    {
     "data": {
      "text/plain": [
       "{'isim': 'Mustafa', 'yas': 28, 'meslek': 'Mühendis'}"
      ]
     },
     "execution_count": 22,
     "metadata": {},
     "output_type": "execute_result"
    }
   ],
   "source": [
    "empty_dict[\"yas\"] = 28\n",
    "empty_dict"
   ]
  },
  {
   "cell_type": "code",
   "execution_count": 23,
   "metadata": {},
   "outputs": [
    {
     "data": {
      "text/plain": [
       "dict_keys(['isim', 'yas', 'meslek'])"
      ]
     },
     "execution_count": 23,
     "metadata": {},
     "output_type": "execute_result"
    }
   ],
   "source": [
    "empty_dict .keys()"
   ]
  },
  {
   "cell_type": "code",
   "execution_count": 24,
   "metadata": {},
   "outputs": [
    {
     "data": {
      "text/plain": [
       "['isim', 'yas', 'meslek']"
      ]
     },
     "execution_count": 24,
     "metadata": {},
     "output_type": "execute_result"
    }
   ],
   "source": [
    "list(empty_dict .keys())"
   ]
  },
  {
   "cell_type": "code",
   "execution_count": 25,
   "metadata": {},
   "outputs": [
    {
     "data": {
      "text/plain": [
       "['Mustafa', 28, 'Mühendis']"
      ]
     },
     "execution_count": 25,
     "metadata": {},
     "output_type": "execute_result"
    }
   ],
   "source": [
    "list(empty_dict .values())"
   ]
  },
  {
   "cell_type": "code",
   "execution_count": 26,
   "metadata": {},
   "outputs": [
    {
     "data": {
      "text/plain": [
       "[('isim', 'Mustafa'), ('yas', 28), ('meslek', 'Mühendis')]"
      ]
     },
     "execution_count": 26,
     "metadata": {},
     "output_type": "execute_result"
    }
   ],
   "source": [
    "list(empty_dict .items())"
   ]
  },
  {
   "cell_type": "code",
   "execution_count": 2,
   "metadata": {},
   "outputs": [
    {
     "name": "stdout",
     "output_type": "stream",
     "text": [
      "Ahmet darıca fen lisesinde okumaktadır. Ahmet bilgisayar bilimi dersini cok sevmektedir.\n",
      "      Dersin dışında UDEMY ve www.w3school.com sitesini takip ederek bilgisini artırmaktadır\n"
     ]
    }
   ],
   "source": [
    "isim = input(\"Lütfen ismi giriniz\")\n",
    "\n",
    "print(isim, \"\"\"darıca fen lisesinde okumaktadır.\"\"\", isim, \"\"\"bilgisayar bilimi dersini cok sevmektedir.\n",
    "      Dersin dışında UDEMY ve www.w3school.com sitesini takip ederek bilgisini artırmaktadır\"\"\")"
   ]
  },
  {
   "cell_type": "code",
   "execution_count": null,
   "metadata": {},
   "outputs": [],
   "source": []
  },
  {
   "cell_type": "code",
   "execution_count": null,
   "metadata": {},
   "outputs": [],
   "source": []
  },
  {
   "cell_type": "code",
   "execution_count": null,
   "metadata": {},
   "outputs": [],
   "source": []
  },
  {
   "cell_type": "markdown",
   "metadata": {},
   "source": [
    "## While Practice"
   ]
  },
  {
   "cell_type": "code",
   "execution_count": 27,
   "metadata": {},
   "outputs": [
    {
     "name": "stdout",
     "output_type": "stream",
     "text": [
      "1\n",
      "2\n",
      "3\n",
      "4\n",
      "5\n"
     ]
    }
   ],
   "source": [
    "x = 1\n",
    "\n",
    "while x <= 5:\n",
    "    print(x)\n",
    "    x += 1\n"
   ]
  },
  {
   "cell_type": "code",
   "execution_count": 30,
   "metadata": {},
   "outputs": [
    {
     "name": "stdout",
     "output_type": "stream",
     "text": [
      "6 sayısının faktöriyeli: 720\n"
     ]
    }
   ],
   "source": [
    "sayı = int(input(\"Faktöriyeli bulmak istediğiniz sayıyı giriniz\"))\n",
    "\n",
    "sayaç = 1 \n",
    "faktöriyel = 1\n",
    "\n",
    "while sayaç <= sayı:\n",
    "    faktöriyel *= sayaç\n",
    "    sayaç += 1\n",
    "\n",
    "print(f\"{sayı} sayısının faktöriyeli: {faktöriyel}\")"
   ]
  },
  {
   "cell_type": "code",
   "execution_count": 36,
   "metadata": {},
   "outputs": [
    {
     "name": "stdout",
     "output_type": "stream",
     "text": [
      "34 tahmininde bulundunuz. Lütfen artırın\n",
      "35 tahmininde bulundunuz. Lütfen artırın\n",
      "36 tahmininde bulundunuz. Lütfen artırın\n",
      "37 tahmininde bulundunuz. Lütfen artırın\n",
      "38 tahmininde bulundunuz. Lütfen artırın\n",
      "5 tahminde doğru yanıtı bulamadınız. Elendiniz\n"
     ]
    }
   ],
   "source": [
    "y = True\n",
    "sayaç = 0\n",
    "aklımdaki_sayı = 55\n",
    "\n",
    "while y:\n",
    "    sayaç += 1\n",
    "    tahmin = int(input(\"Lütfen bir sayı tahmin ediniz\"))\n",
    "    if tahmin < aklımdaki_sayı:\n",
    "        print(f\"{tahmin} tahmininde bulundunuz. Lütfen artırın\")\n",
    "    elif tahmin > aklımdaki_sayı:\n",
    "        print(f\"{tahmin} tahmininde bulundunuz. Lütfen azaltın\")\n",
    "    else:\n",
    "        print(f\"{tahmin} tahmininde bulundunuz. {sayaç} tahminde doğru tahmini buldunuz. Tebrikler\")\n",
    "        y = False\n",
    "    if sayaç == 5:\n",
    "        print(f\"{sayaç} tahminde doğru yanıtı bulamadınız. Elendiniz\")\n",
    "        y = False"
   ]
  },
  {
   "cell_type": "code",
   "execution_count": 2,
   "metadata": {},
   "outputs": [
    {
     "name": "stdout",
     "output_type": "stream",
     "text": [
      "Yanlış kullanıcı adı ve parola. Tekrar deneyiniz\n",
      "Yanlış kullanıcı adı ve parola. Tekrar deneyiniz\n",
      "Sisteme giriş yaptınız\n"
     ]
    }
   ],
   "source": [
    "\n",
    "\n",
    "while True:\n",
    "    kullanıcı_adı = str(input(\"Lütfen kullanıcı adını giriniz\"))\n",
    "    parola = int(input(\"Lütfen parolayı giriniz\"))\n",
    "    if kullanıcı_adı == \"MustafaGunuvar\" and parola == 123456:\n",
    "        print(\"Sisteme giriş yaptınız\")\n",
    "        break\n",
    "    else :\n",
    "        print(\"Yanlış kullanıcı adı ve parola. Tekrar deneyiniz\")"
   ]
  },
  {
   "cell_type": "code",
   "execution_count": 6,
   "metadata": {},
   "outputs": [
    {
     "name": "stdout",
     "output_type": "stream",
     "text": [
      "Tekrar deneyin\n",
      "Şifrenizi mi unuttunuz?\n",
      "Şifrenizi değiştirmek ister misiniz ? (E/H)\n",
      "Lütfen Bekleyin\n",
      "Şifre başarıyla değiştirildi\n",
      "Hoş geldiniz: Mustafa\n"
     ]
    }
   ],
   "source": [
    "defkullanıcı = \"Mustafa\"\n",
    "defparola = 1234\n",
    "\n",
    "while True:\n",
    "    user_name = str(input(\"Lütfen kullanıcı adınızı giriniz\"))\n",
    "    parola = int(input(\"Lütfen parolanızı giriniz\"))\n",
    "    if user_name == defkullanıcı and parola == defparola:\n",
    "        print(\"Hoş geldiniz:\", defkullanıcı)\n",
    "        break\n",
    "    elif user_name != defkullanıcı and parola == defparola:\n",
    "        print(\"Kullanıcı adınızı yanlış girdiniz\")\n",
    "    elif user_name == defkullanıcı and parola != defparola:\n",
    "        print(\"Şifrenizi mi unuttunuz?\")\n",
    "        print(\"Şifrenizi değiştirmek ister misiniz ? (E/H)\")\n",
    "        cevap = input()\n",
    "        if cevap == \"E\":\n",
    "            yeniparola = int(input(\"Yeni parola:\"))\n",
    "            print(\"Lütfen Bekleyin\")\n",
    "            defparola = yeniparola\n",
    "            print(\"Şifre başarıyla değiştirildi\")\n",
    "    else:\n",
    "        print(\"Tekrar deneyin\")"
   ]
  },
  {
   "cell_type": "code",
   "execution_count": 7,
   "metadata": {},
   "outputs": [
    {
     "name": "stdout",
     "output_type": "stream",
     "text": [
      "Şifrenizi mi unuttunuz ?\n",
      "Şifrenizi değiştirmek ister misiniz ? (E/H)\n",
      "Lütfen Bekleyin\n",
      "Şifreniz başarıyla değiştirilmiştir\n",
      "Hoş Geldiniz: Mustafa\n"
     ]
    }
   ],
   "source": [
    "defkullanıcı = \"Mustafa\"\n",
    "defparola = 1234\n",
    "\n",
    "while True:\n",
    "    kullanıcı_adı = str(input(\"Lütfen kullanıcı adınızı giriniz\"))\n",
    "    parola = int(input(\"Lütfen parolanızı giriniz\"))\n",
    "    if defkullanıcı == kullanıcı_adı and defparola == parola:\n",
    "        print(\"Hoş Geldiniz:\", defkullanıcı)\n",
    "        break\n",
    "    elif defkullanıcı != kullanıcı_adı and defparola == parola:\n",
    "        print(\"Kullanıcı adınızı yanlış girdiniz\")\n",
    "    elif defkullanıcı == kullanıcı_adı and defparola != parola:\n",
    "        print(\"Şifrenizi mi unuttunuz ?\")\n",
    "        print(\"Şifrenizi değiştirmek ister misiniz ? (E/H)\")\n",
    "        cevap = input()\n",
    "        if cevap == \"E\":\n",
    "            yeniparola = int(input(\"Yeni parolanızı giriniz\"))\n",
    "            print(\"Lütfen Bekleyin\")\n",
    "            defparola = yeniparola\n",
    "            print(\"Şifreniz başarıyla değiştirilmiştir\")\n",
    "    else :\n",
    "        print(\"Tekrar deneyiniz\")"
   ]
  },
  {
   "cell_type": "code",
   "execution_count": null,
   "metadata": {},
   "outputs": [],
   "source": [
    "x = 10\n",
    "\n",
    "while x <= 100:   # 10 dan 100 e kadar olan sayıların while döngüsü\n",
    "    print(x)\n",
    "    x += 1\n"
   ]
  },
  {
   "cell_type": "code",
   "execution_count": null,
   "metadata": {},
   "outputs": [],
   "source": [
    "# Soru: 20 den 0 a kadar azalan sayıları while döngüsünde yazınız\n",
    "\n",
    "x = 20\n",
    "\n",
    "while 0 <= x:\n",
    "    print(x)\n",
    "    x -= 1"
   ]
  },
  {
   "cell_type": "markdown",
   "metadata": {},
   "source": [
    "Soru -- Fibonacci dizisini ekrana yazdıran while döngüsünü yazınız..\n"
   ]
  },
  {
   "cell_type": "code",
   "execution_count": 13,
   "metadata": {},
   "outputs": [
    {
     "name": "stdout",
     "output_type": "stream",
     "text": [
      "1 1 2 3 5 8 13 21 34 55 89 "
     ]
    }
   ],
   "source": [
    "sayı = int(input(\"Lütfen bir sayı giriniz\"))\n",
    "\n",
    "a, b = 0, 1\n",
    "\n",
    "while b < sayı:\n",
    "    a, b = b, a + b\n",
    "\n",
    "    print(a, end = \" \")\n",
    "\n"
   ]
  },
  {
   "cell_type": "markdown",
   "metadata": {},
   "source": [
    "For Sorusu\n",
    "\n",
    "İki farklı liste verilmiş olsun:\n",
    "liste1 = [1, 3, 5, 7, 9]\n",
    "liste2 = [2, 4, 6, 8, 10]\n",
    "Bu iki listeyi kullanarak, her iki listenin elemanlarını toplamış bir üçüncü listeyi (toplam_liste) oluşturun.\n",
    "Sonuç olarak toplam_liste şu şekilde olmalı: [3, 7, 11, 15, 19]"
   ]
  },
  {
   "cell_type": "code",
   "execution_count": null,
   "metadata": {},
   "outputs": [],
   "source": []
  },
  {
   "cell_type": "markdown",
   "metadata": {},
   "source": [
    "Bir sayıyı tersine çeviren bir while döngüsü oluşturun.\n",
    "Örneğin, kullanıcıdan alınan 12345 sayısı, 54321 olarak çevrilmelidir."
   ]
  },
  {
   "cell_type": "code",
   "execution_count": null,
   "metadata": {},
   "outputs": [],
   "source": []
  },
  {
   "cell_type": "markdown",
   "metadata": {},
   "source": [
    "1 ile 100 arasındaki sayıların toplamını hesaplayan bir program yazın.\n",
    "Ancak, sadece tek sayıları toplamaya dahil edin ve toplam 500'ü geçtiğinde programı sonlandırın.\n",
    "Bu işlemi hem for döngüsü hem de while döngüsü kullanarak gerçekleştirin."
   ]
  },
  {
   "cell_type": "code",
   "execution_count": 4,
   "metadata": {},
   "outputs": [
    {
     "name": "stdout",
     "output_type": "stream",
     "text": [
      "501 500 ü gectiği için kod durmuştur\n"
     ]
    }
   ],
   "source": [
    "toplam = 0\n",
    "\n",
    "for i in range(1, 101):\n",
    "\n",
    "    while toplam <= 500:\n",
    "        if i % 2:\n",
    "            toplam += 1\n",
    "print(f\"{toplam} 500 ü gectiği için kod durmuştur\")\n"
   ]
  },
  {
   "cell_type": "markdown",
   "metadata": {},
   "source": [
    "Kullanıcıdan bir sayı girişi yapmasını isteyen bir program yazın. Ardından, bu sayıya kadar olan Fibonacci serisinin sadece asal sayılarını içeren bir liste oluşturun. Fibonacci serisindeki bir sayı, kendisinden önce gelen iki sayının toplamıdır. Bu işlemi while ve for döngüsünü birlikte kullanarak gerçekleştirin.\n",
    "\n",
    "\n",
    "\n",
    "\n",
    "\n"
   ]
  },
  {
   "cell_type": "code",
   "execution_count": 11,
   "metadata": {},
   "outputs": [],
   "source": [
    "def asal_mi(sayi):\n",
    "\n",
    "    if sayi < 2:\n",
    "\n",
    "        return False\n",
    "    \n",
    "    for i in range(2, int(sayi**0.5) + 1):\n",
    "\n",
    "        if sayi % i == 0:\n",
    "\n",
    "            return False\n",
    "        \n",
    "    return True\n",
    "\n",
    "def fibonacci_asal_listesi(sinir):\n",
    "\n",
    "    fibonacci_listesi = [0, 1]\n",
    "\n",
    "    while fibonacci_listesi[-1] + fibonacci_listesi[-2] <= sinir:\n",
    "\n",
    "        fibonacci_listesi.append(fibonacci_listesi[-1] + fibonacci_listesi[-2])\n",
    "\n",
    "    asal_liste = []\n",
    "\n",
    "    for num in fibonacci_listesi:\n",
    "\n",
    "        if asal_mi(num):\n",
    "            \n",
    "            asal_liste.append(num)\n",
    "\n",
    "    return asal_liste\n"
   ]
  },
  {
   "cell_type": "code",
   "execution_count": 16,
   "metadata": {},
   "outputs": [
    {
     "data": {
      "text/plain": [
       "[2, 3, 5, 13, 89, 233, 1597, 28657, 514229]"
      ]
     },
     "execution_count": 16,
     "metadata": {},
     "output_type": "execute_result"
    }
   ],
   "source": [
    "fibonacci_asal_listesi(1000000)"
   ]
  },
  {
   "cell_type": "code",
   "execution_count": 25,
   "metadata": {},
   "outputs": [],
   "source": [
    "def asal_mı(sayı):\n",
    "\n",
    "    if sayı < 2:\n",
    "        \n",
    "        return False\n",
    "    \n",
    "    counter = 0\n",
    "\n",
    "    for i in range(2, sayı):\n",
    "\n",
    "        if sayı % i == 0:\n",
    "\n",
    "            counter += 1\n",
    "\n",
    "    if counter > 0:\n",
    "\n",
    "        return False\n",
    "    \n",
    "    else:\n",
    "\n",
    "        return True\n",
    "    \n",
    "def fibonacci_asal_listesi(sınır):\n",
    "\n",
    "    fibonacci_listesi = [0, 1]\n",
    "\n",
    "    while fibonacci_listesi[-1] + fibonacci_listesi[-2] <= sınır:\n",
    "\n",
    "        fibonacci_listesi .append(fibonacci_listesi[-1] + fibonacci_listesi[-2])\n",
    "\n",
    "    asal_liste = []\n",
    "\n",
    "    for num in fibonacci_listesi:\n",
    "\n",
    "        if asal_mı(num):\n",
    "\n",
    "            asal_liste .append(num)\n",
    "\n",
    "    return asal_liste"
   ]
  },
  {
   "cell_type": "code",
   "execution_count": 27,
   "metadata": {},
   "outputs": [
    {
     "data": {
      "text/plain": [
       "[2, 3, 5, 13, 89, 233, 1597, 28657]"
      ]
     },
     "execution_count": 27,
     "metadata": {},
     "output_type": "execute_result"
    }
   ],
   "source": [
    "fibonacci_asal_listesi(100000)"
   ]
  }
 ],
 "metadata": {
  "kernelspec": {
   "display_name": "Python 3",
   "language": "python",
   "name": "python3"
  },
  "language_info": {
   "codemirror_mode": {
    "name": "ipython",
    "version": 3
   },
   "file_extension": ".py",
   "mimetype": "text/x-python",
   "name": "python",
   "nbconvert_exporter": "python",
   "pygments_lexer": "ipython3",
   "version": "3.12.2"
  }
 },
 "nbformat": 4,
 "nbformat_minor": 2
}
