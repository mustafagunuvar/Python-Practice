{
 "cells": [
  {
   "cell_type": "markdown",
   "metadata": {},
   "source": [
    "\n",
    "\n",
    "Kullanıcıdan bir sayı al ve bu sayının çarpım tablosunu ekrana yazdır\n"
   ]
  },
  {
   "cell_type": "code",
   "execution_count": 10,
   "metadata": {},
   "outputs": [
    {
     "name": "stdout",
     "output_type": "stream",
     "text": [
      "9 sayısının çarpım tablosu:\n",
      "9 x 1 : 9 \n",
      "9 x 2 : 18\n",
      "9 x 3 : 27\n",
      "9 x 4 : 36\n",
      "9 x 5 : 45\n",
      "9 x 6 : 54\n",
      "9 x 7 : 63\n",
      "9 x 8 : 72\n",
      "9 x 9 : 81\n",
      "9 x 10: 90\n"
     ]
    }
   ],
   "source": [
    "sayı = int(input(\"Lütfen bir sayı giriniz\"))\n",
    "print(f\"{sayı} sayısının çarpım tablosu:\")\n",
    "for i in range(1, 11):\n",
    "    print(f\"{sayı:<1} x {i:<2}: {sayı * i:<2}\")"
   ]
  },
  {
   "cell_type": "markdown",
   "metadata": {},
   "source": [
    "\n",
    "\n",
    "***Sayı Tahmin Oyunu:***\n",
    "- Bilgisayar rastgele bir sayı seçsin (örneğin 1 ile 100 arasında).\n",
    "- Kullanıcıdan sayı tahminleri alın ve bilgisayarın seçtiği sayı ile karşılaştırın.\n",
    "- Kullanıcıya sayıyı doğru tahmin edip etmediğini söyleyin.\n",
    "- Tahminler arasında döngü kullanın."
   ]
  },
  {
   "cell_type": "code",
   "execution_count": 14,
   "metadata": {},
   "outputs": [
    {
     "name": "stdout",
     "output_type": "stream",
     "text": [
      "Yanlış tahmin ettiniz. Lütfen tahmininizi azaltın\n",
      "Yanlış tahmin ettiniz. Lütfen tahmininizi azaltın\n",
      "Yanlış tahmin ettiniz. Lütfen tahmininizi artırın\n",
      "Yanlış tahmin ettiniz. Lütfen tahmininizi artırın\n",
      "Yanlış tahmin ettiniz. Lütfen tahmininizi artırın\n",
      "5 Hakkınız dolmuştur. Elendiniz. Doğru cevap: 22 idi\n"
     ]
    }
   ],
   "source": [
    "import random\n",
    "\n",
    "import time\n",
    "\n",
    "sayı = random .randint(1,100)\n",
    "\n",
    "sayac = 0\n",
    "\n",
    "while True:\n",
    "\n",
    "    time .sleep(1)\n",
    "\n",
    "    tahmin = int(input(\"Lütfen 1 ile 100 arasında bir tahminde bulunun\"))\n",
    "\n",
    "    sayac += 1\n",
    "\n",
    "    if tahmin < sayı:\n",
    "        print(\"Yanlış tahmin ettiniz. Lütfen tahmininizi artırın\")\n",
    "\n",
    "    elif tahmin > sayı:\n",
    "        print(\"Yanlış tahmin ettiniz. Lütfen tahmininizi azaltın\")\n",
    "\n",
    "    else:\n",
    "        print(f\"{sayı} doğru tahmin. Tebrikler\")\n",
    "        break\n",
    "    if sayac == 5:\n",
    "        print(f\"5 Hakkınız dolmuştur. Elendiniz. Doğru cevap: {sayı} idi\")\n",
    "        break\n",
    "    \n",
    "    \n",
    "    "
   ]
  },
  {
   "cell_type": "markdown",
   "metadata": {},
   "source": [
    "***Mükemmel Sayılar:***\n",
    "\n",
    "- Belirli bir aralıkta mükemmel sayıları bulun.\n",
    "- Mükemmel sayı, kendisi hariç pozitif bölenlerinin toplamı kendisine eşit olan sayıdır."
   ]
  },
  {
   "cell_type": "code",
   "execution_count": 11,
   "metadata": {},
   "outputs": [],
   "source": [
    "def mükemmel_sayı(x):\n",
    "\n",
    "    toplam = 0\n",
    "\n",
    "    for i in range(1, x):\n",
    "\n",
    "        if x % i == 0:\n",
    "\n",
    "            toplam += i\n",
    "\n",
    "    if toplam == x:\n",
    "        return x"
   ]
  },
  {
   "cell_type": "code",
   "execution_count": 13,
   "metadata": {},
   "outputs": [
    {
     "data": {
      "text/plain": [
       "28"
      ]
     },
     "execution_count": 13,
     "metadata": {},
     "output_type": "execute_result"
    }
   ],
   "source": [
    "mükemmel_sayı(28)"
   ]
  },
  {
   "cell_type": "code",
   "execution_count": 14,
   "metadata": {},
   "outputs": [
    {
     "data": {
      "text/plain": [
       "[6, 28, 496]"
      ]
     },
     "execution_count": 14,
     "metadata": {},
     "output_type": "execute_result"
    }
   ],
   "source": [
    "result = []\n",
    "\n",
    "for i in range(1, 1000):\n",
    "\n",
    "    if mükemmel_sayı(i) in range(1, 1000):\n",
    "\n",
    "        result .append(i)\n",
    "\n",
    "result\n",
    "\n"
   ]
  },
  {
   "cell_type": "markdown",
   "metadata": {},
   "source": [
    "***Asal Sayı Bulucu:***\n",
    "- Kullanıcıdan bir sayı alır ve bu sayının asal olup olmadığını kontrol eder."
   ]
  },
  {
   "cell_type": "code",
   "execution_count": 45,
   "metadata": {},
   "outputs": [
    {
     "name": "stdout",
     "output_type": "stream",
     "text": [
      "9 sayısı asal sayı değildir\n"
     ]
    }
   ],
   "source": [
    "sayı = int(input(\"Lütfen asallığını kontrol etmek istediğiniz sayıyı giriniz\"))\n",
    "\n",
    "for i in range(2, sayı):\n",
    "    if sayı % i == 0:\n",
    "        print(f\"{sayı} sayısı asal sayı değildir\")\n",
    "        break\n",
    "        \n",
    "\n",
    "else:\n",
    "    print(f\"{sayı} sayısı asal sayıdır\")  \n",
    "                                            # buradaki else if in else i değil. For un else i.....\n"
   ]
  },
  {
   "cell_type": "markdown",
   "metadata": {},
   "source": [
    "***Palindrom Kontrolü:***\n",
    "- Kullanıcıdan bir kelime veya cümle alır ve bu kelimenin palindrom olup olmadığını kontrol eder."
   ]
  },
  {
   "cell_type": "code",
   "execution_count": 58,
   "metadata": {},
   "outputs": [
    {
     "name": "stdout",
     "output_type": "stream",
     "text": [
      "mum kelimesi polindrom kelimedir\n"
     ]
    }
   ],
   "source": [
    "kelime = input(\"Lütfen bir kelime giriniz\")\n",
    "\n",
    "ters_kelime = kelime[::-1]\n",
    "\n",
    "if kelime == ters_kelime:\n",
    "    print(f\"{kelime} kelimesi polindrom kelimedir\")\n",
    "\n",
    "else:\n",
    "    print(f\"{kelime} kelimesi polindrom kelime değildir\")"
   ]
  },
  {
   "cell_type": "markdown",
   "metadata": {},
   "source": [
    "***Müşteri Sipariş Takip Sistemi:***\n",
    "- Kullanıcıdan bir ürün adı, miktarı ve birim fiyatı alarak toplam sipariş tutarını hesaplar. \n",
    "- Ardından kullanıcıya indirim uygulanıp uygulanmayacağını sormaktadır."
   ]
  },
  {
   "cell_type": "code",
   "execution_count": 60,
   "metadata": {},
   "outputs": [
    {
     "name": "stdout",
     "output_type": "stream",
     "text": [
      "Toplam tutar: 12000.0 TL dir. İndiriminiz ise 1200.0 TL dir\n",
      "Ödenecek tutar : 10800.0 TL dir\n"
     ]
    }
   ],
   "source": [
    "ürün_adı = input(\"Lütfen almak istediğiniz ürün adını giriniz\")\n",
    "\n",
    "ürün_miktarı = int(input(\"Lütfen almak istediğiniz ürün miktarını giriniz\"))\n",
    "\n",
    "ürün_birim_fiyatı = float(input(\"LÜtfen ürün birim fiyatını giriniz\"))\n",
    "\n",
    "toplam_tutar = ürün_miktarı * ürün_birim_fiyatı\n",
    "\n",
    "if toplam_tutar > 10000:\n",
    "    indirim_miktarı = toplam_tutar * 0.1\n",
    "    print(f\"Toplam tutar: {toplam_tutar} TL dir. İndiriminiz ise {indirim_miktarı} TL dir\")\n",
    "    print(f\"Ödenecek tutar : {toplam_tutar - indirim_miktarı} TL dir\")\n",
    "\n",
    "else:\n",
    "    print(f\"Toplam tutar: {toplam_tutar} TL dir. İndirimin yoktur\")\n",
    "    print(f\"Ödenecek tutar: {toplam_tutar} TL dir\")"
   ]
  },
  {
   "cell_type": "markdown",
   "metadata": {},
   "source": [
    "***Giriş Kontrol Sistemi:***\n",
    "- Kullanıcının adını ve yaşını kontrol ederek belirli bir yaşın altındaysa belirli bir bölüme giriş izni verir."
   ]
  },
  {
   "cell_type": "code",
   "execution_count": 62,
   "metadata": {},
   "outputs": [
    {
     "name": "stdout",
     "output_type": "stream",
     "text": [
      "mustafa isimli misafirimiz. Hoşgeldiniz\n"
     ]
    }
   ],
   "source": [
    "isim = input(\"Lütfen isminizi giriniz\")\n",
    "yas = int(input(\"Lütfen yaşınızı giriniz\"))\n",
    "\n",
    "if yas < 18 :\n",
    "    print(f\"{isim} isimli misafirimiz. Üzgünüz bu bölümde sizi misafir edemiyoruz\")\n",
    "\n",
    "else:\n",
    "    print(f\"{isim} isimli misafirimiz. Hoşgeldiniz\")"
   ]
  },
  {
   "cell_type": "markdown",
   "metadata": {},
   "source": [
    "***Alışveriş Sepeti Hesaplayıcı:***\n",
    "- Kullanıcıdan bir dizi ürün, miktar ve fiyat alır. Ardından bu ürünleri sepete ekler ve toplam tutarı hesaplar."
   ]
  },
  {
   "cell_type": "code",
   "execution_count": 4,
   "metadata": {},
   "outputs": [
    {
     "name": "stdout",
     "output_type": "stream",
     "text": [
      "elma sepete eklendi. Toplam fiyat : 400.0\n",
      "karpuz sepete eklendi. Toplam fiyat : 625.0\n",
      "havuc  sepete eklendi. Toplam fiyat : 1025.0\n"
     ]
    }
   ],
   "source": [
    "toplam_tutar = 0\n",
    "\n",
    "while True:\n",
    "\n",
    "    ürün_adı = input(\"Lütfen almak istediğiniz ürünün adını giriniz. Çıkmak istediğinizde 'q' tuşuna basınız.\")\n",
    "\n",
    "    if ürün_adı .lower() == \"q\":\n",
    "        break\n",
    "\n",
    "    miktar = int(input(\"Lütfen almak istediğiniz miktarı giriniz\"))\n",
    "\n",
    "    fiyat = float(input(\"Lütfen ürün fiyatını giriniz\"))\n",
    "\n",
    "    toplam_tutar += miktar * fiyat\n",
    "\n",
    "    print(f\"{ürün_adı} sepete eklendi. Toplam fiyat : {toplam_tutar}\")"
   ]
  },
  {
   "cell_type": "markdown",
   "metadata": {},
   "source": [
    "***Toplam Harcama Hesaplayıcı:***\n",
    "- Kullanıcıdan bir ay boyunca günlük harcamalarını alır ve bu harcamaların toplamını gösterir."
   ]
  },
  {
   "cell_type": "code",
   "execution_count": 3,
   "metadata": {},
   "outputs": [
    {
     "name": "stdout",
     "output_type": "stream",
     "text": [
      "Haftalık Harcamanız: 700 TL dir\n"
     ]
    }
   ],
   "source": [
    "haftalık_harcama = 0\n",
    "\n",
    "for i in range(1, 8):\n",
    "\n",
    "    günlük_harcama = int(input(f\"{i}. gün harcamanızı giriniz\"))\n",
    "\n",
    "    haftalık_harcama += günlük_harcama\n",
    "\n",
    "print(\"Haftalık Harcamanız:\", haftalık_harcama, \"TL dir\")\n",
    "\n",
    "\n"
   ]
  },
  {
   "cell_type": "markdown",
   "metadata": {},
   "source": [
    "***Kullanıcı Girişi ve Yetkilendirme:***\n",
    "* Kullanıcıdan bir kullanıcı adı ve şifre alır, ardından yetkilendirme yapar."
   ]
  },
  {
   "cell_type": "code",
   "execution_count": 8,
   "metadata": {},
   "outputs": [
    {
     "name": "stdout",
     "output_type": "stream",
     "text": [
      "Sifrenizi yanlış girdiniz. Lütfen tekrar deneyin\n",
      "Sifrenizi yanlış girdiniz. Lütfen tekrar deneyin\n",
      "Hoş geldiniz mustafa\n"
     ]
    }
   ],
   "source": [
    "import time\n",
    "\n",
    "sayac = 0\n",
    "\n",
    "while True:\n",
    "       time .sleep(1)\n",
    "       kullanıcı_adı = input(\"Kullanıcı adınızı giriniz\")\n",
    "       sifre = input(\"Lütfen şifrenizi giriniz\")\n",
    "       sayac += 1\n",
    "       if kullanıcı_adı == \"mustafa\" and sifre == \"m1234\":\n",
    "              print(f\"Hoş geldiniz {kullanıcı_adı}\")\n",
    "              break\n",
    "       elif kullanıcı_adı != \"mustafa\" and sifre == \"m1234\":\n",
    "              print(\"Kullanıcı adını yanlış girdiniz. Lütfen yeniden deneyin\")\n",
    "       elif kullanıcı_adı == \"mustafa\" and sifre != \"m1234\":\n",
    "              print(\"Sifrenizi yanlış girdiniz. Lütfen tekrar deneyin\")\n",
    "       else:\n",
    "               print(\"Kullanıcı adı ve şifre hatalı. LÜtfen tekrar deneyiniz\")\n",
    "\n",
    "       if sayac == 3:\n",
    "               print(\"3 kere yanlış bilgi girdiğinizden ötürü sistemden atıldınız\")\n",
    "               break\n",
    "\n",
    "      "
   ]
  },
  {
   "cell_type": "markdown",
   "metadata": {},
   "source": [
    "***Yemek Siparişi Hesaplayıcı:***\n",
    "* Kullanıcıdan sipariş edilen yemeklerin fiyatlarını ve miktarlarını alarak toplam sipariş tutarını hesaplar."
   ]
  },
  {
   "cell_type": "code",
   "execution_count": 10,
   "metadata": {},
   "outputs": [
    {
     "name": "stdout",
     "output_type": "stream",
     "text": [
      "Siparişiniz sona erdi.\n",
      "Hesabınız : 2000.0 TL dir\n"
     ]
    }
   ],
   "source": [
    "toplam_sipariş_tutarı = 0\n",
    "\n",
    "while True:\n",
    "    yemek_ismi = input(\"Lütfen istediğiniz yemegi yazınız. Çıkmak istediğinizde 'q' tuşuna basınız\")\n",
    "    if yemek_ismi .lower() == \"q\":\n",
    "        print(f\"Siparişiniz sona erdi.\")\n",
    "        print(f\"Hesabınız : {toplam_sipariş_tutarı} TL dir\")\n",
    "        break\n",
    "    miktar = int(input(\"Lütfen istediğiniz miktarı yazınız\"))\n",
    "    birim_fiyat = float(input(\"LÜtfen birim fiyatını giriniz\"))\n",
    "\n",
    "    toplam_sipariş_tutarı += miktar * birim_fiyat"
   ]
  },
  {
   "cell_type": "markdown",
   "metadata": {},
   "source": [
    "***Günlük Adımlar Sayacı:***\n",
    "* Kullanıcıdan bir hafta boyunca günlük adımlarını alır ve haftanın sonunda toplam adım sayısını gösterir."
   ]
  },
  {
   "cell_type": "code",
   "execution_count": 12,
   "metadata": {},
   "outputs": [
    {
     "name": "stdout",
     "output_type": "stream",
     "text": [
      "1 haftalık adım sayısı: 110000\n"
     ]
    }
   ],
   "source": [
    "\n",
    "\n",
    "toplam_adım = 0                                                          # list comprehension ile çözülür mü öğren ??\n",
    "\n",
    "for i in range(1, 8):\n",
    "    adım_sayısı = int(input(f\"Lütfen {i}. gün adım sayısını yazınız\"))\n",
    "    toplam_adım += adım_sayısı\n",
    "\n",
    "print(\"1 haftalık adım sayısı:\", toplam_adım)"
   ]
  },
  {
   "cell_type": "markdown",
   "metadata": {},
   "source": [
    "***Fatura Hesaplayıcı:***\n",
    "* Kullanıcıdan ürün miktarı ve birim fiyatı alarak toplam tutarı hesaplar ve KDV ekler."
   ]
  },
  {
   "cell_type": "code",
   "execution_count": 13,
   "metadata": {},
   "outputs": [
    {
     "name": "stdout",
     "output_type": "stream",
     "text": [
      "Aldıgınız ürünün kdvli fiyatı : 14691.0 TL dir\n"
     ]
    }
   ],
   "source": [
    "ürün_miktarı = int(input(\"Lütfen ürün miktarını yazınız\"))\n",
    "\n",
    "birim_fiyat = float(input(\"Lütfen birim fiyatı yazınız\"))\n",
    "\n",
    "toplam_tutar = birim_fiyat * ürün_miktarı\n",
    "\n",
    "kdv = toplam_tutar * 0.18\n",
    "\n",
    "kdvli_toplam_tutar = toplam_tutar + kdv\n",
    "\n",
    "print(f\"Aldıgınız ürünün kdvli fiyatı :\", kdvli_toplam_tutar, \"TL dir\")"
   ]
  },
  {
   "cell_type": "markdown",
   "metadata": {},
   "source": [
    "***Fibonacci Sayıları:***\n",
    "* Kullanıcıdan bir sınır değeri alarak, Fibonacci sayılarını bu sınır dahilinde ekrana yazdırır."
   ]
  },
  {
   "cell_type": "code",
   "execution_count": 23,
   "metadata": {},
   "outputs": [
    {
     "name": "stdout",
     "output_type": "stream",
     "text": [
      "0 1 1 2 3 5 8 13 21 34 "
     ]
    }
   ],
   "source": [
    "sınır = int(input(\"Lütfen fibonacci sayısını görmek istediğiniz son sayıyı yazınız\"))\n",
    "\n",
    "a, b = 0, 1\n",
    "\n",
    "while a <= sınır:\n",
    "    print(a, end= \" \")\n",
    "    a, b = b, a + b\n",
    "\n",
    "    \n",
    "\n",
    "\n"
   ]
  },
  {
   "cell_type": "markdown",
   "metadata": {},
   "source": [
    "***Döviz Dönüştürücü:***\n",
    "* Kullanıcıdan döviz türü ve miktarını alarak, belirli bir döviz kuru üzerinden TL'ye çevirir."
   ]
  },
  {
   "cell_type": "code",
   "execution_count": 25,
   "metadata": {},
   "outputs": [
    {
     "name": "stdout",
     "output_type": "stream",
     "text": [
      "254.56 EUR : 8209.56 TL dir\n"
     ]
    }
   ],
   "source": [
    "döviz_türü = input(\"Lütfen girmek çevirmek istediğiniz döviz türünü yazınız. USD veya EUR\") .upper()\n",
    "\n",
    "if döviz_türü == \"USD\":\n",
    "    usd_miktar = float(input(\"Lütfen çevirmek istediğiniz USD miktarını yazınız\"))\n",
    "    TL = usd_miktar * 30.02\n",
    "    print(f\"{usd_miktar} USD : {TL} TL dir\")\n",
    "elif döviz_türü == \"EUR\":\n",
    "    eur_miktar = float(input(\"Lütfen çevirmek istediğiniz EUR miktarını yazınız\"))\n",
    "    TL = eur_miktar * 32.25\n",
    "    print(f\"{eur_miktar} EUR : {TL} TL dir\")\n",
    "\n",
    "else:\n",
    "    print(\"Yanlış bir döviz türü girdiniz.\")\n"
   ]
  },
  {
   "cell_type": "code",
   "execution_count": null,
   "metadata": {},
   "outputs": [],
   "source": []
  },
  {
   "cell_type": "markdown",
   "metadata": {},
   "source": [
    "***Kredi Hesaplayıcı:***\n",
    "* Kullanıcıdan kredi miktarı, faiz oranı ve vade süresini alarak aylık taksit tutarını hesaplar."
   ]
  },
  {
   "cell_type": "code",
   "execution_count": 3,
   "metadata": {},
   "outputs": [
    {
     "name": "stdout",
     "output_type": "stream",
     "text": [
      "8469.37\n"
     ]
    }
   ],
   "source": [
    "kredi_miktari = float(input(\"Lütfen almak istediğiniz kredi miktarını giriniz\"))\n",
    "\n",
    "faiz_orani = float(input(\"Lütfen faiz oranını giriniz\"))\n",
    "\n",
    "vade_suresi = int(input(\"Lütfen istediğiniz vade süresini giriniz\"))\n",
    "\n",
    "aylik_faiz_orani = faiz_orani / 12 / 100\n",
    "\n",
    "aylik_taksit = (kredi_miktari * aylik_faiz_orani) / (1 - (1 + aylik_faiz_orani)**-vade_suresi)\n",
    "\n",
    "print(round(aylik_taksit, 2))\n"
   ]
  },
  {
   "cell_type": "markdown",
   "metadata": {},
   "source": [
    "***Not Hesaplayıcı:***\n",
    "* Kullanıcıdan bir öğrencinin sınav notlarını alarak, ortalamayı hesaplar ve belirli bir sınıfa göre notunu bildirir."
   ]
  },
  {
   "cell_type": "code",
   "execution_count": 5,
   "metadata": {},
   "outputs": [
    {
     "name": "stdout",
     "output_type": "stream",
     "text": [
      "83.33 ortalama ile BA aldınız\n"
     ]
    }
   ],
   "source": [
    "vize = float(input(\"Lütfen vize puanınızı giriniz\"))\n",
    "\n",
    "final = float(input(\"LÜtfen final notunuzu giriniz\"))\n",
    "\n",
    "proje = float(input(\"Lütfen proje notunuzu giriniz\"))\n",
    "\n",
    "ort = round((vize + final + proje) / 3, 2)\n",
    "\n",
    "if ort >= 90:\n",
    "    print(f\"{ort} ortalama ile AA aldınız\")\n",
    "\n",
    "elif ort >= 80:\n",
    "    print(f\"{ort} ortalama ile BA aldınız\")\n",
    "\n",
    "elif ort >= 70:\n",
    "    print(f\"{ort} ortalama ile BB aldınız\")\n",
    "\n",
    "elif ort >= 60:\n",
    "    print(f\"{ort} ortalama ile CB aldınız\")\n",
    "\n",
    "elif ort >= 50:\n",
    "    print(f\"{ort} ortalama ile CC aldnız\")\n",
    "\n",
    "else:\n",
    "    print(f\"{ort} ortalama ile FF aldınız\")"
   ]
  },
  {
   "cell_type": "markdown",
   "metadata": {},
   "source": [
    "***Alışveriş Listesi:***\n",
    "* Kullanıcıdan alışveriş yapmak istediği ürünleri bir listeye ekleyerek, alışveriş listesini oluşturur."
   ]
  },
  {
   "cell_type": "code",
   "execution_count": 10,
   "metadata": {},
   "outputs": [
    {
     "name": "stdout",
     "output_type": "stream",
     "text": [
      "Alışveriş Listesi Şu Şekildedir:\n",
      "elma\n",
      "armut\n",
      "muz\n"
     ]
    }
   ],
   "source": [
    "alışveriş_listesi = []\n",
    "\n",
    "while True:\n",
    "    ürün = input(\"Lütfen istediğiniz ürünü giriniz. Çıkmak için 'q' tuşuna basınız\")\n",
    "\n",
    "    if ürün .lower() == \"q\":\n",
    "        print(\"Alışveriş Listesi Şu Şekildedir:\")\n",
    "        print(alışveriş_listesi, sep = \"\\n\")\n",
    "        break\n",
    "\n",
    "    else:\n",
    "        alışveriş_listesi .append(ürün)\n"
   ]
  },
  {
   "cell_type": "code",
   "execution_count": 12,
   "metadata": {},
   "outputs": [
    {
     "name": "stdout",
     "output_type": "stream",
     "text": [
      "Geçersiz Gün\n"
     ]
    }
   ],
   "source": [
    "haftanın_günleri = (\"Pazartesi\", \"Salı\", \"Çarşamba\", \"Perşembe\", \"Cuma\", \"Cumartesi\", \"Pazar\")\n",
    "\n",
    "seçilen_gün = input(\"Lütfen seçmek istediğiniz günü yazınız\")\n",
    "\n",
    "if seçilen_gün .capitalize() in haftanın_günleri:\n",
    "    print(f\"{seçilen_gün} gününü seçtiniz\")\n",
    "\n",
    "else:\n",
    "    print(\"Geçersiz Gün\")"
   ]
  },
  {
   "cell_type": "markdown",
   "metadata": {},
   "source": [
    "***Meyve Sepeti:***\n",
    "* Kullanıcıdan meyve ve miktarını alarak, bir set içinde benzersiz meyveleri saklar."
   ]
  },
  {
   "cell_type": "code",
   "execution_count": null,
   "metadata": {},
   "outputs": [],
   "source": [
    "meyve_sepeti = set()\n",
    "\n",
    "while True:\n",
    "    meyve = input(\"Lütfen istediğiniz meyveyi giriniz. Çıkmak için 'q' tuşuna basınız\")\n",
    "\n",
    "    if meyve .lower() == \"q\":\n",
    "        break\n",
    "\n",
    "    else:\n",
    "        miktar = int(input(f\"{meyve} miktarını giriniz.\"))\n",
    "\n",
    "        meyve_sepeti .add((meyve, miktar))\n",
    "\n",
    "print(\"Meyve Sepeti:\")\n",
    "\n",
    "for meyve, miktar in meyve_sepeti:\n",
    "    print(f\"{meyve} miktarı: {miktar} kg\")                                               # BU SORUYA TEKRAR DÖN...."
   ]
  },
  {
   "cell_type": "markdown",
   "metadata": {},
   "source": [
    "***Öğrenci Bilgi Sistemi:***\n",
    "* Dictionary kullanarak öğrencilerin not bilgilerini saklar ve kullanıcıdan bir öğrenci numarası alarak notları gösterir."
   ]
  },
  {
   "cell_type": "code",
   "execution_count": 25,
   "metadata": {},
   "outputs": [
    {
     "name": "stdout",
     "output_type": "stream",
     "text": [
      "789 numaralı öğrencinin notları: [75, 80, 70]\n"
     ]
    }
   ],
   "source": [
    "ogrenci_bilgileri = {\n",
    "    132: {\"ad\": \"Ali\", \"soyad\": \"Demir\", \"notlar\": [80, 85, 90]},\n",
    "    456: {\"ad\": \"Ayşe\", \"soyad\": \"Veli\", \"notlar\": [90, 95, 85]},\n",
    "    789: {\"ad\": \"Ahmet\", \"soyad\": \"Kaya\", \"notlar\": [75, 80, 70]},}\n",
    "\n",
    "x = int(input(\"Lütfen notlarını öğrenmek istediğiniz öğrencinin numarasını giriniz\"))\n",
    "\n",
    "notlar =ogrenci_bilgileri[x][\"notlar\"]\n",
    "\n",
    "print(f\"{x} numaralı öğrencinin notları:\", notlar)"
   ]
  },
  {
   "cell_type": "code",
   "execution_count": null,
   "metadata": {},
   "outputs": [],
   "source": []
  },
  {
   "cell_type": "code",
   "execution_count": null,
   "metadata": {},
   "outputs": [],
   "source": []
  },
  {
   "cell_type": "code",
   "execution_count": null,
   "metadata": {},
   "outputs": [],
   "source": []
  }
 ],
 "metadata": {
  "kernelspec": {
   "display_name": "Python 3",
   "language": "python",
   "name": "python3"
  },
  "language_info": {
   "codemirror_mode": {
    "name": "ipython",
    "version": 3
   },
   "file_extension": ".py",
   "mimetype": "text/x-python",
   "name": "python",
   "nbconvert_exporter": "python",
   "pygments_lexer": "ipython3",
   "version": "3.12.2"
  }
 },
 "nbformat": 4,
 "nbformat_minor": 2
}
