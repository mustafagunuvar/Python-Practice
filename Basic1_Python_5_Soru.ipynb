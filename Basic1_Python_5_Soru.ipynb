{
 "cells": [
  {
   "cell_type": "markdown",
   "metadata": {},
   "source": [
    "SORU - 1\n",
    "\n",
    "Kullanıcıdan aldığınız not bilgisini 90 ile 100 arası \"A\", 80 ile 90 arası \"B\" şeklinde devam eden notlandırma yöntemi ile gösteriniz...\n",
    "\n"
   ]
  },
  {
   "cell_type": "code",
   "execution_count": 19,
   "metadata": {},
   "outputs": [
    {
     "name": "stdout",
     "output_type": "stream",
     "text": [
      "79.5 notu ile 'B' aldınız\n"
     ]
    }
   ],
   "source": [
    "n = notunuz = float(input(\"Lütfen sınav notunuzu giriniz\"))\n",
    "\n",
    "if 89 < n <= 100:\n",
    "\n",
    "    print(f\"{n} notu ile 'A' aldınız\")\n",
    "\n",
    "elif 79 < n <= 89:\n",
    "\n",
    "    print(f\"{n} notu ile 'B' aldınız\")\n",
    "\n",
    "elif 69 < n <= 79:\n",
    "\n",
    "    print(f\"{n} notu ile 'C' aldınız\")\n",
    "\n",
    "elif 59 < n <= 69:\n",
    "\n",
    "    print(f\"{n} notu ile 'D' aldınız\")\n",
    "\n",
    "elif n <= 59:\n",
    "\n",
    "    print(f\"{n} notu ile geçemediniz\")\n",
    "\n",
    "else:\n",
    "\n",
    "    print(\"Yanlış bir not degeri girdiniz\")\n"
   ]
  },
  {
   "cell_type": "markdown",
   "metadata": {},
   "source": [
    "SORU - 2\n",
    "\n",
    "Kullanıcıdan bir kelime alın ve bu kelimenin ilk harflerinden başlayarak her seferinde bir harfi büyük harf olacak şekilde son harfe kadar işlemi işlemi tekrarlayan ve sonucları liste içinde çıktı veren bir algoritma oluşturun.\n",
    "ÖRN, [\"Burak\", \"bUrak\", \"buRak\", \"burAk\", \"buraK\"]"
   ]
  },
  {
   "cell_type": "code",
   "execution_count": 25,
   "metadata": {},
   "outputs": [
    {
     "name": "stdout",
     "output_type": "stream",
     "text": [
      "['Mustafa', 'mUstafa', 'muStafa', 'musTafa', 'mustAfa', 'mustaFa', 'mustafA']\n"
     ]
    }
   ],
   "source": [
    "word = input(\"Enter a word\")\n",
    "\n",
    "result = []\n",
    "\n",
    "for i in range(len(word)):\n",
    "\n",
    "    result.append(word[:i] + word[i].upper() + word[i+1:])\n",
    "\n",
    "print(result)"
   ]
  },
  {
   "cell_type": "code",
   "execution_count": null,
   "metadata": {},
   "outputs": [],
   "source": []
  }
 ],
 "metadata": {
  "kernelspec": {
   "display_name": "Python 3",
   "language": "python",
   "name": "python3"
  },
  "language_info": {
   "codemirror_mode": {
    "name": "ipython",
    "version": 3
   },
   "file_extension": ".py",
   "mimetype": "text/x-python",
   "name": "python",
   "nbconvert_exporter": "python",
   "pygments_lexer": "ipython3",
   "version": "3.12.2"
  }
 },
 "nbformat": 4,
 "nbformat_minor": 2
}
